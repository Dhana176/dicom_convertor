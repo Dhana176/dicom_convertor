{
 "cells": [
  {
   "cell_type": "code",
   "execution_count": 1,
   "id": "82a40a53-d121-4ecf-8951-8245d1b32f71",
   "metadata": {},
   "outputs": [
    {
     "name": "stdout",
     "output_type": "stream",
     "text": [
      "Requirement already satisfied: pydicom in c:\\users\\ktpdharani\\anaconda3\\envs\\tfnew\\lib\\site-packages (2.4.4)\n",
      "Requirement already satisfied: pillow in c:\\users\\ktpdharani\\anaconda3\\envs\\tfnew\\lib\\site-packages (10.0.1)\n",
      "Note: you may need to restart the kernel to use updated packages.\n"
     ]
    }
   ],
   "source": [
    "pip install pydicom pillow\n"
   ]
  },
  {
   "cell_type": "code",
   "execution_count": 2,
   "id": "ddcd17bf-1c95-44da-8640-124ef8c0779b",
   "metadata": {},
   "outputs": [
    {
     "name": "stdout",
     "output_type": "stream",
     "text": [
      "Requirement already satisfied: scipy in c:\\users\\ktpdharani\\anaconda3\\envs\\tfnew\\lib\\site-packages (1.11.4)\n",
      "Requirement already satisfied: numpy<1.28.0,>=1.21.6 in c:\\users\\ktpdharani\\anaconda3\\envs\\tfnew\\lib\\site-packages (from scipy) (1.26.3)\n",
      "Note: you may need to restart the kernel to use updated packages.\n"
     ]
    }
   ],
   "source": [
    "pip install scipy"
   ]
  },
  {
   "cell_type": "code",
   "execution_count": 3,
   "id": "4154e32a-4852-4868-bdbb-efc0419133b7",
   "metadata": {},
   "outputs": [
    {
     "name": "stdout",
     "output_type": "stream",
     "text": [
      "Requirement already satisfied: requests in c:\\users\\ktpdharani\\anaconda3\\envs\\tfnew\\lib\\site-packages (2.31.0)\n",
      "Requirement already satisfied: charset-normalizer<4,>=2 in c:\\users\\ktpdharani\\anaconda3\\envs\\tfnew\\lib\\site-packages (from requests) (2.0.4)\n",
      "Requirement already satisfied: idna<4,>=2.5 in c:\\users\\ktpdharani\\anaconda3\\envs\\tfnew\\lib\\site-packages (from requests) (3.4)\n",
      "Requirement already satisfied: urllib3<3,>=1.21.1 in c:\\users\\ktpdharani\\anaconda3\\envs\\tfnew\\lib\\site-packages (from requests) (1.26.18)\n",
      "Requirement already satisfied: certifi>=2017.4.17 in c:\\users\\ktpdharani\\anaconda3\\envs\\tfnew\\lib\\site-packages (from requests) (2023.11.17)\n"
     ]
    }
   ],
   "source": [
    "!pip install requests"
   ]
  },
  {
   "cell_type": "code",
   "execution_count": 4,
   "id": "b26cd45f-cc77-45ee-b345-2f19507f4fcf",
   "metadata": {},
   "outputs": [
    {
     "name": "stdout",
     "output_type": "stream",
     "text": [
      "Requirement already satisfied: tensorflow in c:\\users\\ktpdharani\\anaconda3\\envs\\tfnew\\lib\\site-packages (2.10.0)\n",
      "Requirement already satisfied: absl-py>=1.0.0 in c:\\users\\ktpdharani\\anaconda3\\envs\\tfnew\\lib\\site-packages (from tensorflow) (1.4.0)\n",
      "Requirement already satisfied: astunparse>=1.6.0 in c:\\users\\ktpdharani\\anaconda3\\envs\\tfnew\\lib\\site-packages (from tensorflow) (1.6.3)\n",
      "Requirement already satisfied: flatbuffers>=2.0 in c:\\users\\ktpdharani\\anaconda3\\envs\\tfnew\\lib\\site-packages (from tensorflow) (2.0)\n",
      "Requirement already satisfied: gast<=0.4.0,>=0.2.1 in c:\\users\\ktpdharani\\anaconda3\\envs\\tfnew\\lib\\site-packages (from tensorflow) (0.4.0)\n",
      "Requirement already satisfied: google-pasta>=0.1.1 in c:\\users\\ktpdharani\\anaconda3\\envs\\tfnew\\lib\\site-packages (from tensorflow) (0.2.0)\n",
      "Requirement already satisfied: h5py>=2.9.0 in c:\\users\\ktpdharani\\anaconda3\\envs\\tfnew\\lib\\site-packages (from tensorflow) (3.9.0)\n",
      "Requirement already satisfied: keras-preprocessing>=1.1.1 in c:\\users\\ktpdharani\\anaconda3\\envs\\tfnew\\lib\\site-packages (from tensorflow) (1.1.2)\n",
      "Requirement already satisfied: libclang>=13.0.0 in c:\\users\\ktpdharani\\anaconda3\\envs\\tfnew\\lib\\site-packages (from tensorflow) (16.0.6)\n",
      "Requirement already satisfied: numpy>=1.20 in c:\\users\\ktpdharani\\anaconda3\\envs\\tfnew\\lib\\site-packages (from tensorflow) (1.26.3)\n",
      "Requirement already satisfied: opt-einsum>=2.3.2 in c:\\users\\ktpdharani\\anaconda3\\envs\\tfnew\\lib\\site-packages (from tensorflow) (3.3.0)\n",
      "Requirement already satisfied: packaging in c:\\users\\ktpdharani\\anaconda3\\envs\\tfnew\\lib\\site-packages (from tensorflow) (23.1)\n",
      "Requirement already satisfied: protobuf<3.20,>=3.9.2 in c:\\users\\ktpdharani\\anaconda3\\envs\\tfnew\\lib\\site-packages (from tensorflow) (3.19.6)\n",
      "Requirement already satisfied: setuptools in c:\\users\\ktpdharani\\anaconda3\\envs\\tfnew\\lib\\site-packages (from tensorflow) (68.2.2)\n",
      "Requirement already satisfied: six>=1.12.0 in c:\\users\\ktpdharani\\anaconda3\\envs\\tfnew\\lib\\site-packages (from tensorflow) (1.16.0)\n",
      "Requirement already satisfied: termcolor>=1.1.0 in c:\\users\\ktpdharani\\anaconda3\\envs\\tfnew\\lib\\site-packages (from tensorflow) (2.1.0)\n",
      "Requirement already satisfied: typing-extensions>=3.6.6 in c:\\users\\ktpdharani\\anaconda3\\envs\\tfnew\\lib\\site-packages (from tensorflow) (4.9.0)\n",
      "Requirement already satisfied: wrapt>=1.11.0 in c:\\users\\ktpdharani\\anaconda3\\envs\\tfnew\\lib\\site-packages (from tensorflow) (1.14.1)\n",
      "Requirement already satisfied: tensorflow-io-gcs-filesystem>=0.23.1 in c:\\users\\ktpdharani\\anaconda3\\envs\\tfnew\\lib\\site-packages (from tensorflow) (0.31.0)\n",
      "Requirement already satisfied: grpcio<2.0,>=1.24.3 in c:\\users\\ktpdharani\\anaconda3\\envs\\tfnew\\lib\\site-packages (from tensorflow) (1.42.0)\n",
      "Requirement already satisfied: tensorboard<2.11,>=2.10 in c:\\users\\ktpdharani\\anaconda3\\envs\\tfnew\\lib\\site-packages (from tensorflow) (2.10.0)\n",
      "Requirement already satisfied: tensorflow-estimator<2.11,>=2.10.0 in c:\\users\\ktpdharani\\anaconda3\\envs\\tfnew\\lib\\site-packages (from tensorflow) (2.10.0)\n",
      "Requirement already satisfied: keras<2.11,>=2.10.0 in c:\\users\\ktpdharani\\anaconda3\\envs\\tfnew\\lib\\site-packages (from tensorflow) (2.10.0)\n",
      "Requirement already satisfied: wheel<1.0,>=0.23.0 in c:\\users\\ktpdharani\\anaconda3\\envs\\tfnew\\lib\\site-packages (from astunparse>=1.6.0->tensorflow) (0.41.2)\n",
      "Requirement already satisfied: google-auth<3,>=1.6.3 in c:\\users\\ktpdharani\\anaconda3\\envs\\tfnew\\lib\\site-packages (from tensorboard<2.11,>=2.10->tensorflow) (2.22.0)\n",
      "Requirement already satisfied: google-auth-oauthlib<0.5,>=0.4.1 in c:\\users\\ktpdharani\\anaconda3\\envs\\tfnew\\lib\\site-packages (from tensorboard<2.11,>=2.10->tensorflow) (0.4.4)\n",
      "Requirement already satisfied: markdown>=2.6.8 in c:\\users\\ktpdharani\\anaconda3\\envs\\tfnew\\lib\\site-packages (from tensorboard<2.11,>=2.10->tensorflow) (3.4.1)\n",
      "Requirement already satisfied: requests<3,>=2.21.0 in c:\\users\\ktpdharani\\anaconda3\\envs\\tfnew\\lib\\site-packages (from tensorboard<2.11,>=2.10->tensorflow) (2.31.0)\n",
      "Requirement already satisfied: tensorboard-data-server<0.7.0,>=0.6.0 in c:\\users\\ktpdharani\\anaconda3\\envs\\tfnew\\lib\\site-packages (from tensorboard<2.11,>=2.10->tensorflow) (0.6.1)\n",
      "Requirement already satisfied: tensorboard-plugin-wit>=1.6.0 in c:\\users\\ktpdharani\\anaconda3\\envs\\tfnew\\lib\\site-packages (from tensorboard<2.11,>=2.10->tensorflow) (1.8.1)\n",
      "Requirement already satisfied: werkzeug>=1.0.1 in c:\\users\\ktpdharani\\anaconda3\\envs\\tfnew\\lib\\site-packages (from tensorboard<2.11,>=2.10->tensorflow) (2.3.8)\n",
      "Requirement already satisfied: cachetools<6.0,>=2.0.0 in c:\\users\\ktpdharani\\anaconda3\\envs\\tfnew\\lib\\site-packages (from google-auth<3,>=1.6.3->tensorboard<2.11,>=2.10->tensorflow) (4.2.2)\n",
      "Requirement already satisfied: pyasn1-modules>=0.2.1 in c:\\users\\ktpdharani\\anaconda3\\envs\\tfnew\\lib\\site-packages (from google-auth<3,>=1.6.3->tensorboard<2.11,>=2.10->tensorflow) (0.2.8)\n",
      "Requirement already satisfied: rsa<5,>=3.1.4 in c:\\users\\ktpdharani\\anaconda3\\envs\\tfnew\\lib\\site-packages (from google-auth<3,>=1.6.3->tensorboard<2.11,>=2.10->tensorflow) (4.7.2)\n",
      "Requirement already satisfied: urllib3<2.0 in c:\\users\\ktpdharani\\anaconda3\\envs\\tfnew\\lib\\site-packages (from google-auth<3,>=1.6.3->tensorboard<2.11,>=2.10->tensorflow) (1.26.18)\n",
      "Requirement already satisfied: requests-oauthlib>=0.7.0 in c:\\users\\ktpdharani\\anaconda3\\envs\\tfnew\\lib\\site-packages (from google-auth-oauthlib<0.5,>=0.4.1->tensorboard<2.11,>=2.10->tensorflow) (1.3.0)\n",
      "Requirement already satisfied: importlib-metadata>=4.4 in c:\\users\\ktpdharani\\anaconda3\\envs\\tfnew\\lib\\site-packages (from markdown>=2.6.8->tensorboard<2.11,>=2.10->tensorflow) (7.0.1)\n",
      "Requirement already satisfied: charset-normalizer<4,>=2 in c:\\users\\ktpdharani\\anaconda3\\envs\\tfnew\\lib\\site-packages (from requests<3,>=2.21.0->tensorboard<2.11,>=2.10->tensorflow) (2.0.4)\n",
      "Requirement already satisfied: idna<4,>=2.5 in c:\\users\\ktpdharani\\anaconda3\\envs\\tfnew\\lib\\site-packages (from requests<3,>=2.21.0->tensorboard<2.11,>=2.10->tensorflow) (3.4)\n",
      "Requirement already satisfied: certifi>=2017.4.17 in c:\\users\\ktpdharani\\anaconda3\\envs\\tfnew\\lib\\site-packages (from requests<3,>=2.21.0->tensorboard<2.11,>=2.10->tensorflow) (2023.11.17)\n",
      "Requirement already satisfied: MarkupSafe>=2.1.1 in c:\\users\\ktpdharani\\anaconda3\\envs\\tfnew\\lib\\site-packages (from werkzeug>=1.0.1->tensorboard<2.11,>=2.10->tensorflow) (2.1.3)\n",
      "Requirement already satisfied: zipp>=0.5 in c:\\users\\ktpdharani\\anaconda3\\envs\\tfnew\\lib\\site-packages (from importlib-metadata>=4.4->markdown>=2.6.8->tensorboard<2.11,>=2.10->tensorflow) (3.17.0)\n",
      "Requirement already satisfied: pyasn1<0.5.0,>=0.4.6 in c:\\users\\ktpdharani\\anaconda3\\envs\\tfnew\\lib\\site-packages (from pyasn1-modules>=0.2.1->google-auth<3,>=1.6.3->tensorboard<2.11,>=2.10->tensorflow) (0.4.8)\n",
      "Requirement already satisfied: oauthlib>=3.0.0 in c:\\users\\ktpdharani\\anaconda3\\envs\\tfnew\\lib\\site-packages (from requests-oauthlib>=0.7.0->google-auth-oauthlib<0.5,>=0.4.1->tensorboard<2.11,>=2.10->tensorflow) (3.2.2)\n",
      "Note: you may need to restart the kernel to use updated packages.\n"
     ]
    }
   ],
   "source": [
    "pip install tensorflow"
   ]
  },
  {
   "cell_type": "code",
   "execution_count": 5,
   "id": "b8086484-038a-4a7d-9e65-eed1213f6f08",
   "metadata": {},
   "outputs": [],
   "source": [
    "\n",
    "import os\n",
    "import numpy as np\n",
    "import tensorflow as tf\n",
    "import pydicom\n",
    "from PIL import Image\n",
    "from scipy.ndimage import gaussian_filter\n",
    "from tensorflow.keras.preprocessing.image import ImageDataGenerator\n",
    "\n",
    "# Import requests and scipy.optimize if needed\n",
    "import requests"
   ]
  },
  {
   "cell_type": "code",
   "execution_count": 6,
   "id": "77b27c88-d3c3-4025-aa9c-ea7c44b69784",
   "metadata": {},
   "outputs": [],
   "source": [
    "def create_and_train_cnn(input_shape, num_conv_layers=2, filter_size=(3, 3), dropout_rate=0.3, epochs=10):\n",
    "    model = tf.keras.Sequential()\n",
    "\n",
    "    # Add convolutional layers\n",
    "    for _ in range(num_conv_layers):\n",
    "        model.add(tf.keras.layers.Conv2D(64, filter_size, activation='relu', padding='same', input_shape=input_shape))\n",
    "        model.add(tf.keras.layers.MaxPooling2D(2, 2))\n",
    "        model.add(tf.keras.layers.Dropout(dropout_rate))\n",
    "\n",
    "    model.add(tf.keras.layers.Flatten())\n",
    "    model.add(tf.keras.layers.Dense(128, activation='relu'))\n",
    "    model.add(tf.keras.layers.Dense(1, activation='sigmoid'))\n",
    "\n",
    "    model.compile(optimizer='adam', loss='binary_crossentropy', metrics=['accuracy'])\n",
    "    \n",
    "    # Add data augmentation\n",
    "    data_generator = ImageDataGenerator(rotation_range=15, width_shift_range=0.1, height_shift_range=0.1, shear_range=0.1, zoom_range=0.1, horizontal_flip=True)\n",
    "    \n",
    "    # Example: Assuming you have train_data and validation_data\n",
    "    # model.fit(data_generator.flow(train_data, train_labels), epochs=epochs, validation_data=(validation_data, validation_labels))\n",
    "    \n",
    "    return model"
   ]
  },
  {
   "cell_type": "code",
   "execution_count": 7,
   "id": "4a218d6d-b968-4eff-8b5e-ab5eeebc0e29",
   "metadata": {},
   "outputs": [],
   "source": [
    "\n",
    "def preprocess_single_dicom(filepath):\n",
    "    dicom_data = pydicom.dcmread(filepath)\n",
    "    image_array = dicom_data.pixel_array.astype(np.float32)\n",
    "\n",
    "    # Apply Gaussian filter to remove noise\n",
    "    smoothed_image = gaussian_filter(image_array, sigma=1)\n",
    "\n",
    "    normalized_image = (smoothed_image - np.min(smoothed_image)) / (np.max(smoothed_image) - np.min(smoothed_image))\n",
    "    return normalized_image"
   ]
  },
  {
   "cell_type": "code",
   "execution_count": 8,
   "id": "9e12ca75-e8d2-49e7-a470-701c94558d65",
   "metadata": {},
   "outputs": [
    {
     "name": "stdout",
     "output_type": "stream",
     "text": [
      "1/1 [==============================] - 1s 1s/step\n"
     ]
    }
   ],
   "source": [
    "\n",
    "def convert_single_dicom_to_jpg(filepath, model):\n",
    "    dicom_data = pydicom.dcmread(filepath)\n",
    "    image_array = dicom_data.pixel_array.astype(np.float32)\n",
    "    normalized_image = (image_array - np.min(image_array)) / (np.max(image_array) - np.min(image_array))\n",
    "    input_image = normalized_image.reshape(1, *normalized_image.shape, 1)\n",
    "    \n",
    "    prediction = model.predict(input_image)\n",
    "    \n",
    "    if prediction[0, 0] > 0.5:\n",
    "        img_array = (normalized_image * 255).astype(np.uint8)\n",
    "        return img_array\n",
    "    else:\n",
    "        # Return None or any appropriate value if not converted\n",
    "        return None\n",
    "\n",
    "\n",
    "\n",
    "# Example usage for a single DICOM file\n",
    "dicom_file_path = \"C:/Users/ktpdharani/dicomfiles/dicnew1/input/ex.dcm\"\n",
    "jpg_output_directory = \"C:/Users/ktpdharani/dicomfiles/dicnew1/output\"\n",
    "\n",
    "# Preprocess a single DICOM file\n",
    "single_dicom_image = preprocess_single_dicom(dicom_file_path)\n",
    "\n",
    "# Create and train CNN\n",
    "input_shape = single_dicom_image.shape + (1,)\n",
    "cnn_model = create_and_train_cnn(input_shape, num_conv_layers=2, filter_size=(3, 3), dropout_rate=0.3, epochs=10)\n",
    "\n",
    "# Convert a single DICOM to JPG using the trained CNN and save in the output folder\n",
    "convert_single_dicom_to_jpg(dicom_file_path, jpg_output_directory, cnn_model)\n"
   ]
  },
  {
   "cell_type": "code",
   "execution_count": null,
   "id": "5f26430f-0a87-487f-aa14-c0d615aaa231",
   "metadata": {},
   "outputs": [],
   "source": []
  }
 ],
 "metadata": {
  "kernelspec": {
   "display_name": "Python 3 (ipykernel)",
   "language": "python",
   "name": "python3"
  },
  "language_info": {
   "codemirror_mode": {
    "name": "ipython",
    "version": 3
   },
   "file_extension": ".py",
   "mimetype": "text/x-python",
   "name": "python",
   "nbconvert_exporter": "python",
   "pygments_lexer": "ipython3",
   "version": "3.9.18"
  }
 },
 "nbformat": 4,
 "nbformat_minor": 5
}
